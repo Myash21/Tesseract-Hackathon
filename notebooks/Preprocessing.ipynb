{
 "cells": [
  {
   "cell_type": "markdown",
   "metadata": {},
   "source": [
    "<h1><b>Model Training Notebook</b></h1>"
   ]
  },
  {
   "cell_type": "markdown",
   "metadata": {},
   "source": [
    "<h3><b>Importing Libraries</b></h3>"
   ]
  },
  {
   "cell_type": "code",
   "execution_count": 38,
   "metadata": {},
   "outputs": [],
   "source": [
    "import pandas as pd\n",
    "import numpy as np\n",
    "import matplotlib.pyplot as plt\n",
    "import seaborn as sns\n",
    "from sklearn.model_selection import train_test_split\n",
    "from sklearn.ensemble import AdaBoostClassifier, RandomForestClassifier, GradientBoostingClassifier\n",
    "from sklearn.svm import SVC\n",
    "from sklearn.tree import DecisionTreeClassifier\n",
    "from sklearn.neighbors import KNeighborsClassifier\n",
    "from xgboost import XGBClassifier\n",
    "from sklearn.preprocessing import LabelEncoder \n",
    "from sklearn.metrics import accuracy_score, f1_score, confusion_matrix, roc_auc_score, precision_score, recall_score\n"
   ]
  },
  {
   "cell_type": "markdown",
   "metadata": {},
   "source": [
    "<h3><b>Loading and cleaning data</b></h3>"
   ]
  },
  {
   "cell_type": "code",
   "execution_count": 39,
   "metadata": {},
   "outputs": [],
   "source": [
    "mental_health_data = pd.read_csv(\"../data/raw/Mental Health Dataset.csv\") "
   ]
  },
  {
   "cell_type": "code",
   "execution_count": 40,
   "metadata": {},
   "outputs": [
    {
     "data": {
      "text/html": [
       "<div>\n",
       "<style scoped>\n",
       "    .dataframe tbody tr th:only-of-type {\n",
       "        vertical-align: middle;\n",
       "    }\n",
       "\n",
       "    .dataframe tbody tr th {\n",
       "        vertical-align: top;\n",
       "    }\n",
       "\n",
       "    .dataframe thead th {\n",
       "        text-align: right;\n",
       "    }\n",
       "</style>\n",
       "<table border=\"1\" class=\"dataframe\">\n",
       "  <thead>\n",
       "    <tr style=\"text-align: right;\">\n",
       "      <th></th>\n",
       "      <th>Timestamp</th>\n",
       "      <th>Gender</th>\n",
       "      <th>Country</th>\n",
       "      <th>Occupation</th>\n",
       "      <th>self_employed</th>\n",
       "      <th>family_history</th>\n",
       "      <th>treatment</th>\n",
       "      <th>Days_Indoors</th>\n",
       "      <th>Growing_Stress</th>\n",
       "      <th>Changes_Habits</th>\n",
       "      <th>Mental_Health_History</th>\n",
       "      <th>Mood_Swings</th>\n",
       "      <th>Coping_Struggles</th>\n",
       "      <th>Work_Interest</th>\n",
       "      <th>Social_Weakness</th>\n",
       "      <th>mental_health_interview</th>\n",
       "      <th>care_options</th>\n",
       "    </tr>\n",
       "  </thead>\n",
       "  <tbody>\n",
       "    <tr>\n",
       "      <th>0</th>\n",
       "      <td>2014-08-27 11:29:31</td>\n",
       "      <td>Female</td>\n",
       "      <td>United States</td>\n",
       "      <td>Corporate</td>\n",
       "      <td>NaN</td>\n",
       "      <td>No</td>\n",
       "      <td>Yes</td>\n",
       "      <td>1-14 days</td>\n",
       "      <td>Yes</td>\n",
       "      <td>No</td>\n",
       "      <td>Yes</td>\n",
       "      <td>Medium</td>\n",
       "      <td>No</td>\n",
       "      <td>No</td>\n",
       "      <td>Yes</td>\n",
       "      <td>No</td>\n",
       "      <td>Not sure</td>\n",
       "    </tr>\n",
       "    <tr>\n",
       "      <th>1</th>\n",
       "      <td>2014-08-27 11:31:50</td>\n",
       "      <td>Female</td>\n",
       "      <td>United States</td>\n",
       "      <td>Corporate</td>\n",
       "      <td>NaN</td>\n",
       "      <td>Yes</td>\n",
       "      <td>Yes</td>\n",
       "      <td>1-14 days</td>\n",
       "      <td>Yes</td>\n",
       "      <td>No</td>\n",
       "      <td>Yes</td>\n",
       "      <td>Medium</td>\n",
       "      <td>No</td>\n",
       "      <td>No</td>\n",
       "      <td>Yes</td>\n",
       "      <td>No</td>\n",
       "      <td>No</td>\n",
       "    </tr>\n",
       "    <tr>\n",
       "      <th>2</th>\n",
       "      <td>2014-08-27 11:32:39</td>\n",
       "      <td>Female</td>\n",
       "      <td>United States</td>\n",
       "      <td>Corporate</td>\n",
       "      <td>NaN</td>\n",
       "      <td>Yes</td>\n",
       "      <td>Yes</td>\n",
       "      <td>1-14 days</td>\n",
       "      <td>Yes</td>\n",
       "      <td>No</td>\n",
       "      <td>Yes</td>\n",
       "      <td>Medium</td>\n",
       "      <td>No</td>\n",
       "      <td>No</td>\n",
       "      <td>Yes</td>\n",
       "      <td>No</td>\n",
       "      <td>Yes</td>\n",
       "    </tr>\n",
       "    <tr>\n",
       "      <th>3</th>\n",
       "      <td>2014-08-27 11:37:59</td>\n",
       "      <td>Female</td>\n",
       "      <td>United States</td>\n",
       "      <td>Corporate</td>\n",
       "      <td>No</td>\n",
       "      <td>Yes</td>\n",
       "      <td>Yes</td>\n",
       "      <td>1-14 days</td>\n",
       "      <td>Yes</td>\n",
       "      <td>No</td>\n",
       "      <td>Yes</td>\n",
       "      <td>Medium</td>\n",
       "      <td>No</td>\n",
       "      <td>No</td>\n",
       "      <td>Yes</td>\n",
       "      <td>Maybe</td>\n",
       "      <td>Yes</td>\n",
       "    </tr>\n",
       "    <tr>\n",
       "      <th>4</th>\n",
       "      <td>2014-08-27 11:43:36</td>\n",
       "      <td>Female</td>\n",
       "      <td>United States</td>\n",
       "      <td>Corporate</td>\n",
       "      <td>No</td>\n",
       "      <td>Yes</td>\n",
       "      <td>Yes</td>\n",
       "      <td>1-14 days</td>\n",
       "      <td>Yes</td>\n",
       "      <td>No</td>\n",
       "      <td>Yes</td>\n",
       "      <td>Medium</td>\n",
       "      <td>No</td>\n",
       "      <td>No</td>\n",
       "      <td>Yes</td>\n",
       "      <td>No</td>\n",
       "      <td>Yes</td>\n",
       "    </tr>\n",
       "  </tbody>\n",
       "</table>\n",
       "</div>"
      ],
      "text/plain": [
       "             Timestamp  Gender        Country Occupation self_employed  \\\n",
       "0  2014-08-27 11:29:31  Female  United States  Corporate           NaN   \n",
       "1  2014-08-27 11:31:50  Female  United States  Corporate           NaN   \n",
       "2  2014-08-27 11:32:39  Female  United States  Corporate           NaN   \n",
       "3  2014-08-27 11:37:59  Female  United States  Corporate            No   \n",
       "4  2014-08-27 11:43:36  Female  United States  Corporate            No   \n",
       "\n",
       "  family_history treatment Days_Indoors Growing_Stress Changes_Habits  \\\n",
       "0             No       Yes    1-14 days            Yes             No   \n",
       "1            Yes       Yes    1-14 days            Yes             No   \n",
       "2            Yes       Yes    1-14 days            Yes             No   \n",
       "3            Yes       Yes    1-14 days            Yes             No   \n",
       "4            Yes       Yes    1-14 days            Yes             No   \n",
       "\n",
       "  Mental_Health_History Mood_Swings Coping_Struggles Work_Interest  \\\n",
       "0                   Yes      Medium               No            No   \n",
       "1                   Yes      Medium               No            No   \n",
       "2                   Yes      Medium               No            No   \n",
       "3                   Yes      Medium               No            No   \n",
       "4                   Yes      Medium               No            No   \n",
       "\n",
       "  Social_Weakness mental_health_interview care_options  \n",
       "0             Yes                      No     Not sure  \n",
       "1             Yes                      No           No  \n",
       "2             Yes                      No          Yes  \n",
       "3             Yes                   Maybe          Yes  \n",
       "4             Yes                      No          Yes  "
      ]
     },
     "execution_count": 40,
     "metadata": {},
     "output_type": "execute_result"
    }
   ],
   "source": [
    "mental_health_data.head()"
   ]
  },
  {
   "cell_type": "code",
   "execution_count": 41,
   "metadata": {},
   "outputs": [
    {
     "data": {
      "text/plain": [
       "Timestamp                     0\n",
       "Gender                        0\n",
       "Country                       0\n",
       "Occupation                    0\n",
       "self_employed              5202\n",
       "family_history                0\n",
       "treatment                     0\n",
       "Days_Indoors                  0\n",
       "Growing_Stress                0\n",
       "Changes_Habits                0\n",
       "Mental_Health_History         0\n",
       "Mood_Swings                   0\n",
       "Coping_Struggles              0\n",
       "Work_Interest                 0\n",
       "Social_Weakness               0\n",
       "mental_health_interview       0\n",
       "care_options                  0\n",
       "dtype: int64"
      ]
     },
     "execution_count": 41,
     "metadata": {},
     "output_type": "execute_result"
    }
   ],
   "source": [
    "mental_health_data.isna().sum()"
   ]
  },
  {
   "cell_type": "code",
   "execution_count": 42,
   "metadata": {},
   "outputs": [
    {
     "data": {
      "text/plain": [
       "Timestamp                  0\n",
       "Gender                     0\n",
       "Country                    0\n",
       "Occupation                 0\n",
       "self_employed              0\n",
       "family_history             0\n",
       "treatment                  0\n",
       "Days_Indoors               0\n",
       "Growing_Stress             0\n",
       "Changes_Habits             0\n",
       "Mental_Health_History      0\n",
       "Mood_Swings                0\n",
       "Coping_Struggles           0\n",
       "Work_Interest              0\n",
       "Social_Weakness            0\n",
       "mental_health_interview    0\n",
       "care_options               0\n",
       "dtype: int64"
      ]
     },
     "execution_count": 42,
     "metadata": {},
     "output_type": "execute_result"
    }
   ],
   "source": [
    "mental_health_data.dropna(axis = 0, inplace = True)\n",
    "mental_health_data.isna().sum()"
   ]
  },
  {
   "cell_type": "code",
   "execution_count": 43,
   "metadata": {},
   "outputs": [
    {
     "data": {
      "text/plain": [
       "Days_Indoors\n",
       "1-14 days             62429\n",
       "31-60 days            59625\n",
       "Go out Every day      57323\n",
       "More than 2 months    54918\n",
       "15-30 days            52867\n",
       "Name: count, dtype: int64"
      ]
     },
     "execution_count": 43,
     "metadata": {},
     "output_type": "execute_result"
    }
   ],
   "source": [
    "mental_health_data.Days_Indoors.value_counts()"
   ]
  },
  {
   "cell_type": "code",
   "execution_count": 44,
   "metadata": {},
   "outputs": [
    {
     "data": {
      "text/plain": [
       "Growing_Stress\n",
       "Maybe    98225\n",
       "Yes      97854\n",
       "No       91083\n",
       "Name: count, dtype: int64"
      ]
     },
     "execution_count": 44,
     "metadata": {},
     "output_type": "execute_result"
    }
   ],
   "source": [
    "mental_health_data.Growing_Stress.value_counts()"
   ]
  },
  {
   "cell_type": "code",
   "execution_count": 45,
   "metadata": {},
   "outputs": [],
   "source": [
    "mental_health_data.drop(\"Timestamp\", axis = 1, inplace = True)"
   ]
  },
  {
   "cell_type": "code",
   "execution_count": 46,
   "metadata": {},
   "outputs": [
    {
     "data": {
      "text/plain": [
       "0"
      ]
     },
     "execution_count": 46,
     "metadata": {},
     "output_type": "execute_result"
    }
   ],
   "source": [
    "mental_health_data.duplicated().sum()\n",
    "mental_health_data.drop_duplicates(inplace = True)\n",
    "mental_health_data.duplicated().sum()"
   ]
  },
  {
   "cell_type": "code",
   "execution_count": 47,
   "metadata": {},
   "outputs": [
    {
     "data": {
      "text/plain": [
       "(92920, 16)"
      ]
     },
     "execution_count": 47,
     "metadata": {},
     "output_type": "execute_result"
    }
   ],
   "source": [
    "mental_health_data.shape"
   ]
  },
  {
   "cell_type": "code",
   "execution_count": 48,
   "metadata": {},
   "outputs": [
    {
     "name": "stdout",
     "output_type": "stream",
     "text": [
      "<class 'pandas.core.frame.DataFrame'>\n",
      "Index: 92920 entries, 3 to 292360\n",
      "Data columns (total 16 columns):\n",
      " #   Column                   Non-Null Count  Dtype \n",
      "---  ------                   --------------  ----- \n",
      " 0   Gender                   92920 non-null  object\n",
      " 1   Country                  92920 non-null  object\n",
      " 2   Occupation               92920 non-null  object\n",
      " 3   self_employed            92920 non-null  object\n",
      " 4   family_history           92920 non-null  object\n",
      " 5   treatment                92920 non-null  object\n",
      " 6   Days_Indoors             92920 non-null  object\n",
      " 7   Growing_Stress           92920 non-null  object\n",
      " 8   Changes_Habits           92920 non-null  object\n",
      " 9   Mental_Health_History    92920 non-null  object\n",
      " 10  Mood_Swings              92920 non-null  object\n",
      " 11  Coping_Struggles         92920 non-null  object\n",
      " 12  Work_Interest            92920 non-null  object\n",
      " 13  Social_Weakness          92920 non-null  object\n",
      " 14  mental_health_interview  92920 non-null  object\n",
      " 15  care_options             92920 non-null  object\n",
      "dtypes: object(16)\n",
      "memory usage: 12.1+ MB\n"
     ]
    }
   ],
   "source": [
    "mental_health_data.info()"
   ]
  },
  {
   "cell_type": "code",
   "execution_count": 49,
   "metadata": {},
   "outputs": [],
   "source": [
    "mental_health_data = mental_health_data.astype('category')"
   ]
  },
  {
   "cell_type": "code",
   "execution_count": 50,
   "metadata": {},
   "outputs": [
    {
     "name": "stdout",
     "output_type": "stream",
     "text": [
      "<class 'pandas.core.frame.DataFrame'>\n",
      "Index: 92920 entries, 3 to 292360\n",
      "Data columns (total 16 columns):\n",
      " #   Column                   Non-Null Count  Dtype   \n",
      "---  ------                   --------------  -----   \n",
      " 0   Gender                   92920 non-null  category\n",
      " 1   Country                  92920 non-null  category\n",
      " 2   Occupation               92920 non-null  category\n",
      " 3   self_employed            92920 non-null  category\n",
      " 4   family_history           92920 non-null  category\n",
      " 5   treatment                92920 non-null  category\n",
      " 6   Days_Indoors             92920 non-null  category\n",
      " 7   Growing_Stress           92920 non-null  category\n",
      " 8   Changes_Habits           92920 non-null  category\n",
      " 9   Mental_Health_History    92920 non-null  category\n",
      " 10  Mood_Swings              92920 non-null  category\n",
      " 11  Coping_Struggles         92920 non-null  category\n",
      " 12  Work_Interest            92920 non-null  category\n",
      " 13  Social_Weakness          92920 non-null  category\n",
      " 14  mental_health_interview  92920 non-null  category\n",
      " 15  care_options             92920 non-null  category\n",
      "dtypes: category(16)\n",
      "memory usage: 2.1 MB\n"
     ]
    }
   ],
   "source": [
    "mental_health_data.info()"
   ]
  },
  {
   "cell_type": "markdown",
   "metadata": {},
   "source": [
    "<h3><b>Tranforming categorical features</b><h3>"
   ]
  },
  {
   "cell_type": "code",
   "execution_count": 51,
   "metadata": {},
   "outputs": [
    {
     "data": {
      "text/plain": [
       "Index(['Gender', 'Country', 'Occupation', 'self_employed', 'family_history',\n",
       "       'treatment', 'Days_Indoors', 'Growing_Stress', 'Changes_Habits',\n",
       "       'Mental_Health_History', 'Mood_Swings', 'Coping_Struggles',\n",
       "       'Work_Interest', 'Social_Weakness', 'mental_health_interview',\n",
       "       'care_options'],\n",
       "      dtype='object')"
      ]
     },
     "execution_count": 51,
     "metadata": {},
     "output_type": "execute_result"
    }
   ],
   "source": [
    "mental_health_data.columns"
   ]
  },
  {
   "cell_type": "code",
   "execution_count": 52,
   "metadata": {},
   "outputs": [],
   "source": [
    "mental_health_data_transformed = pd.DataFrame()"
   ]
  },
  {
   "cell_type": "code",
   "execution_count": 60,
   "metadata": {},
   "outputs": [
    {
     "name": "stdout",
     "output_type": "stream",
     "text": [
      "Gender\n",
      "['Female', 'Male']\n",
      "Categories (2, object): ['Female', 'Male']\n",
      "\n",
      "\n",
      "Country\n",
      "['United States', 'Poland', 'Australia', 'Canada', 'United Kingdom', ..., 'Moldova', 'Colombia', 'Georgia', 'Czech Republic', 'Philippines']\n",
      "Length: 35\n",
      "Categories (35, object): ['Australia', 'Belgium', 'Bosnia and Herzegovina', 'Brazil', ..., 'Switzerland', 'Thailand', 'United Kingdom', 'United States']\n",
      "\n",
      "\n",
      "Occupation\n",
      "['Corporate', 'Student', 'Business', 'Housewife', 'Others']\n",
      "Categories (5, object): ['Business', 'Corporate', 'Housewife', 'Others', 'Student']\n",
      "\n",
      "\n",
      "self_employed\n",
      "['No', 'Yes']\n",
      "Categories (2, object): ['No', 'Yes']\n",
      "\n",
      "\n",
      "family_history\n",
      "['Yes', 'No']\n",
      "Categories (2, object): ['No', 'Yes']\n",
      "\n",
      "\n",
      "treatment\n",
      "['Yes', 'No']\n",
      "Categories (2, object): ['No', 'Yes']\n",
      "\n",
      "\n",
      "Days_Indoors\n",
      "['1-14 days', 'Go out Every day', 'More than 2 months', '15-30 days', '31-60 days']\n",
      "Categories (5, object): ['1-14 days', '15-30 days', '31-60 days', 'Go out Every day', 'More than 2 months']\n",
      "\n",
      "\n",
      "Growing_Stress\n",
      "['Yes', 'No', 'Maybe']\n",
      "Categories (3, object): ['Maybe', 'No', 'Yes']\n",
      "\n",
      "\n",
      "Changes_Habits\n",
      "['No', 'Yes', 'Maybe']\n",
      "Categories (3, object): ['Maybe', 'No', 'Yes']\n",
      "\n",
      "\n",
      "Mental_Health_History\n",
      "['Yes', 'No', 'Maybe']\n",
      "Categories (3, object): ['Maybe', 'No', 'Yes']\n",
      "\n",
      "\n",
      "Mood_Swings\n",
      "['Medium', 'Low', 'High']\n",
      "Categories (3, object): ['High', 'Low', 'Medium']\n",
      "\n",
      "\n",
      "Coping_Struggles\n",
      "['No', 'Yes']\n",
      "Categories (2, object): ['No', 'Yes']\n",
      "\n",
      "\n",
      "Work_Interest\n",
      "['No', 'Maybe', 'Yes']\n",
      "Categories (3, object): ['Maybe', 'No', 'Yes']\n",
      "\n",
      "\n",
      "Social_Weakness\n",
      "['Yes', 'No', 'Maybe']\n",
      "Categories (3, object): ['Maybe', 'No', 'Yes']\n",
      "\n",
      "\n",
      "mental_health_interview\n",
      "['Maybe', 'No', 'Yes']\n",
      "Categories (3, object): ['Maybe', 'No', 'Yes']\n",
      "\n",
      "\n",
      "care_options\n",
      "['Yes', 'Not sure', 'No']\n",
      "Categories (3, object): ['No', 'Not sure', 'Yes']\n",
      "\n",
      "\n"
     ]
    }
   ],
   "source": [
    "for i in mental_health_data.columns:\n",
    "    print(i)\n",
    "    print(mental_health_data[i].unique())\n",
    "    print(\"\\n\")"
   ]
  },
  {
   "cell_type": "code",
   "execution_count": 67,
   "metadata": {},
   "outputs": [
    {
     "name": "stdout",
     "output_type": "stream",
     "text": [
      "Gender\n",
      "['Female' 'Male']\n",
      "\n",
      "Country\n",
      "['Australia' 'Belgium' 'Bosnia and Herzegovina' 'Brazil' 'Canada'\n",
      " 'Colombia' 'Costa Rica' 'Croatia' 'Czech Republic' 'Denmark' 'Finland'\n",
      " 'France' 'Georgia' 'Germany' 'Greece' 'India' 'Ireland' 'Israel' 'Italy'\n",
      " 'Mexico' 'Moldova' 'Netherlands' 'New Zealand' 'Nigeria' 'Philippines'\n",
      " 'Poland' 'Portugal' 'Russia' 'Singapore' 'South Africa' 'Sweden'\n",
      " 'Switzerland' 'Thailand' 'United Kingdom' 'United States']\n",
      "\n",
      "Occupation\n",
      "['Business' 'Corporate' 'Housewife' 'Others' 'Student']\n",
      "\n",
      "self_employed\n",
      "['No' 'Yes']\n",
      "\n",
      "family_history\n",
      "['No' 'Yes']\n",
      "\n",
      "treatment\n",
      "['No' 'Yes']\n",
      "\n",
      "Days_Indoors\n",
      "['1-14 days' '15-30 days' '31-60 days' 'Go out Every day'\n",
      " 'More than 2 months']\n",
      "\n",
      "Growing_Stress\n",
      "['Maybe' 'No' 'Yes']\n",
      "\n",
      "Changes_Habits\n",
      "['Maybe' 'No' 'Yes']\n",
      "\n",
      "Mental_Health_History\n",
      "['Maybe' 'No' 'Yes']\n",
      "\n",
      "Mood_Swings\n",
      "['High' 'Low' 'Medium']\n",
      "\n",
      "Coping_Struggles\n",
      "['No' 'Yes']\n",
      "\n",
      "Work_Interest\n",
      "['Maybe' 'No' 'Yes']\n",
      "\n",
      "Social_Weakness\n",
      "['Maybe' 'No' 'Yes']\n",
      "\n",
      "mental_health_interview\n",
      "['Maybe' 'No' 'Yes']\n",
      "\n",
      "care_options\n",
      "['No' 'Not sure' 'Yes']\n",
      "\n"
     ]
    }
   ],
   "source": [
    "le = LabelEncoder()\n",
    "for features in mental_health_data.columns:\n",
    "    mental_health_data_transformed[features]=le.fit_transform(mental_health_data[features])\n",
    "    print(f\"{features}\\n{le.classes_}\\n\")"
   ]
  },
  {
   "cell_type": "code",
   "execution_count": 65,
   "metadata": {},
   "outputs": [
    {
     "data": {
      "text/html": [
       "<div>\n",
       "<style scoped>\n",
       "    .dataframe tbody tr th:only-of-type {\n",
       "        vertical-align: middle;\n",
       "    }\n",
       "\n",
       "    .dataframe tbody tr th {\n",
       "        vertical-align: top;\n",
       "    }\n",
       "\n",
       "    .dataframe thead th {\n",
       "        text-align: right;\n",
       "    }\n",
       "</style>\n",
       "<table border=\"1\" class=\"dataframe\">\n",
       "  <thead>\n",
       "    <tr style=\"text-align: right;\">\n",
       "      <th></th>\n",
       "      <th>Gender</th>\n",
       "      <th>Country</th>\n",
       "      <th>Occupation</th>\n",
       "      <th>self_employed</th>\n",
       "      <th>family_history</th>\n",
       "      <th>treatment</th>\n",
       "      <th>Days_Indoors</th>\n",
       "      <th>Growing_Stress</th>\n",
       "      <th>Changes_Habits</th>\n",
       "      <th>Mental_Health_History</th>\n",
       "      <th>Mood_Swings</th>\n",
       "      <th>Coping_Struggles</th>\n",
       "      <th>Work_Interest</th>\n",
       "      <th>Social_Weakness</th>\n",
       "      <th>mental_health_interview</th>\n",
       "      <th>care_options</th>\n",
       "    </tr>\n",
       "  </thead>\n",
       "  <tbody>\n",
       "    <tr>\n",
       "      <th>3</th>\n",
       "      <td>Female</td>\n",
       "      <td>United States</td>\n",
       "      <td>Corporate</td>\n",
       "      <td>No</td>\n",
       "      <td>Yes</td>\n",
       "      <td>Yes</td>\n",
       "      <td>1-14 days</td>\n",
       "      <td>Yes</td>\n",
       "      <td>No</td>\n",
       "      <td>Yes</td>\n",
       "      <td>Medium</td>\n",
       "      <td>No</td>\n",
       "      <td>No</td>\n",
       "      <td>Yes</td>\n",
       "      <td>Maybe</td>\n",
       "      <td>Yes</td>\n",
       "    </tr>\n",
       "    <tr>\n",
       "      <th>4</th>\n",
       "      <td>Female</td>\n",
       "      <td>United States</td>\n",
       "      <td>Corporate</td>\n",
       "      <td>No</td>\n",
       "      <td>Yes</td>\n",
       "      <td>Yes</td>\n",
       "      <td>1-14 days</td>\n",
       "      <td>Yes</td>\n",
       "      <td>No</td>\n",
       "      <td>Yes</td>\n",
       "      <td>Medium</td>\n",
       "      <td>No</td>\n",
       "      <td>No</td>\n",
       "      <td>Yes</td>\n",
       "      <td>No</td>\n",
       "      <td>Yes</td>\n",
       "    </tr>\n",
       "    <tr>\n",
       "      <th>5</th>\n",
       "      <td>Female</td>\n",
       "      <td>Poland</td>\n",
       "      <td>Corporate</td>\n",
       "      <td>No</td>\n",
       "      <td>No</td>\n",
       "      <td>Yes</td>\n",
       "      <td>1-14 days</td>\n",
       "      <td>Yes</td>\n",
       "      <td>No</td>\n",
       "      <td>Yes</td>\n",
       "      <td>Medium</td>\n",
       "      <td>No</td>\n",
       "      <td>No</td>\n",
       "      <td>Yes</td>\n",
       "      <td>Maybe</td>\n",
       "      <td>Not sure</td>\n",
       "    </tr>\n",
       "    <tr>\n",
       "      <th>6</th>\n",
       "      <td>Female</td>\n",
       "      <td>Australia</td>\n",
       "      <td>Corporate</td>\n",
       "      <td>No</td>\n",
       "      <td>Yes</td>\n",
       "      <td>Yes</td>\n",
       "      <td>1-14 days</td>\n",
       "      <td>Yes</td>\n",
       "      <td>No</td>\n",
       "      <td>Yes</td>\n",
       "      <td>Medium</td>\n",
       "      <td>No</td>\n",
       "      <td>No</td>\n",
       "      <td>Yes</td>\n",
       "      <td>No</td>\n",
       "      <td>Not sure</td>\n",
       "    </tr>\n",
       "    <tr>\n",
       "      <th>7</th>\n",
       "      <td>Female</td>\n",
       "      <td>United States</td>\n",
       "      <td>Corporate</td>\n",
       "      <td>No</td>\n",
       "      <td>No</td>\n",
       "      <td>No</td>\n",
       "      <td>1-14 days</td>\n",
       "      <td>Yes</td>\n",
       "      <td>No</td>\n",
       "      <td>Yes</td>\n",
       "      <td>Medium</td>\n",
       "      <td>No</td>\n",
       "      <td>No</td>\n",
       "      <td>Yes</td>\n",
       "      <td>No</td>\n",
       "      <td>No</td>\n",
       "    </tr>\n",
       "  </tbody>\n",
       "</table>\n",
       "</div>"
      ],
      "text/plain": [
       "   Gender        Country Occupation self_employed family_history treatment  \\\n",
       "3  Female  United States  Corporate            No            Yes       Yes   \n",
       "4  Female  United States  Corporate            No            Yes       Yes   \n",
       "5  Female         Poland  Corporate            No             No       Yes   \n",
       "6  Female      Australia  Corporate            No            Yes       Yes   \n",
       "7  Female  United States  Corporate            No             No        No   \n",
       "\n",
       "  Days_Indoors Growing_Stress Changes_Habits Mental_Health_History  \\\n",
       "3    1-14 days            Yes             No                   Yes   \n",
       "4    1-14 days            Yes             No                   Yes   \n",
       "5    1-14 days            Yes             No                   Yes   \n",
       "6    1-14 days            Yes             No                   Yes   \n",
       "7    1-14 days            Yes             No                   Yes   \n",
       "\n",
       "  Mood_Swings Coping_Struggles Work_Interest Social_Weakness  \\\n",
       "3      Medium               No            No             Yes   \n",
       "4      Medium               No            No             Yes   \n",
       "5      Medium               No            No             Yes   \n",
       "6      Medium               No            No             Yes   \n",
       "7      Medium               No            No             Yes   \n",
       "\n",
       "  mental_health_interview care_options  \n",
       "3                   Maybe          Yes  \n",
       "4                      No          Yes  \n",
       "5                   Maybe     Not sure  \n",
       "6                      No     Not sure  \n",
       "7                      No           No  "
      ]
     },
     "execution_count": 65,
     "metadata": {},
     "output_type": "execute_result"
    }
   ],
   "source": [
    "mental_health_data.head()"
   ]
  },
  {
   "cell_type": "markdown",
   "metadata": {},
   "source": [
    "Gender categorical labels: {Female:0, Male:1}\n",
    "\n",
    "Occupation categorical labels: {Business:0, Corporate:1, Housewife:2, Others:3, Student:4}\n",
    "\n",
    "Self employed categorical labels: {No:0, Yes:1}\n",
    "\n",
    "Family history categorical labels: {No:0, Yes:1}\n",
    "\n",
    "Treatment catergorical labels: {No:0, Yes:1}\n",
    "\n",
    "Days indoors categorical labels: {1-14 days:0, 15-30 days:1, 31-60 days:2, Go out Every day:3, More than 2 months:4}\n",
    "\n",
    "Growing stress categorical labels: {Maybe:0, No:1, Yes:2}\n",
    "\n",
    "Changes habits categorical labels: {Maybe:0, No:1, Yes:2}\n",
    "\n",
    "Mental health history categorical labels: {Maybe:0, No:1, Yes:2}\n",
    "\n",
    "Mood swings categorical labels: {High:0, Low:1, Medium:2}\n",
    "\n",
    "Coping strugles categorical labels: {No:0, Yes:1}\n",
    "\n",
    "Work interest categorical labels: {Maybe:0, No:1, Yes:2}\n",
    "\n",
    "Social weakness categorical labels: {Maybe:0, No:1, Yes:2}\n",
    "\n",
    "Mental health interview categorical labels: {Maybe:0, No:1, Yes:2}\n",
    "\n",
    "Care options categorical labels: {No:0, Not sure:1, Yes:2}"
   ]
  },
  {
   "cell_type": "code",
   "execution_count": 68,
   "metadata": {},
   "outputs": [
    {
     "data": {
      "text/plain": [
       "<Axes: >"
      ]
     },
     "execution_count": 68,
     "metadata": {},
     "output_type": "execute_result"
    },
    {
     "data": {
      "image/png": "[encoded data removed]",
      "text/plain": [
       "<Figure size 640x480 with 2 Axes>"
      ]
     },
     "metadata": {},
     "output_type": "display_data"
    }
   ],
   "source": [
    "sns.heatmap(mental_health_data_transformed.corr())"
   ]
  }
 ],
 "metadata": {
  "kernelspec": {
   "display_name": "Python 3",
   "language": "python",
   "name": "python3"
  },
  "language_info": {
   "codemirror_mode": {
    "name": "ipython",
    "version": 3
   },
   "file_extension": ".py",
   "mimetype": "text/x-python",
   "name": "python",
   "nbconvert_exporter": "python",
   "pygments_lexer": "ipython3",
   "version": "3.11.8"
  }
 },
 "nbformat": 4,
 "nbformat_minor": 2
}
